{
 "cells": [
  {
   "cell_type": "code",
   "execution_count": 3,
   "metadata": {},
   "outputs": [],
   "source": [
    "# !pip install datasets\n",
    "from datasets import load_dataset, get_dataset_config_names\n",
    "import pandas as pd"
   ]
  },
  {
   "cell_type": "code",
   "execution_count": 4,
   "metadata": {},
   "outputs": [
    {
     "data": {
      "text/plain": [
       "['XNLI',\n",
       " 'tydiqa',\n",
       " 'SQuAD',\n",
       " 'PAN-X.af',\n",
       " 'PAN-X.ar',\n",
       " 'PAN-X.bg',\n",
       " 'PAN-X.bn',\n",
       " 'PAN-X.de',\n",
       " 'PAN-X.el',\n",
       " 'PAN-X.en',\n",
       " 'PAN-X.es',\n",
       " 'PAN-X.et',\n",
       " 'PAN-X.eu',\n",
       " 'PAN-X.fa',\n",
       " 'PAN-X.fi',\n",
       " 'PAN-X.fr',\n",
       " 'PAN-X.he',\n",
       " 'PAN-X.hi',\n",
       " 'PAN-X.hu',\n",
       " 'PAN-X.id',\n",
       " 'PAN-X.it',\n",
       " 'PAN-X.ja',\n",
       " 'PAN-X.jv',\n",
       " 'PAN-X.ka',\n",
       " 'PAN-X.kk',\n",
       " 'PAN-X.ko',\n",
       " 'PAN-X.ml',\n",
       " 'PAN-X.mr',\n",
       " 'PAN-X.ms',\n",
       " 'PAN-X.my',\n",
       " 'PAN-X.nl',\n",
       " 'PAN-X.pt',\n",
       " 'PAN-X.ru',\n",
       " 'PAN-X.sw',\n",
       " 'PAN-X.ta',\n",
       " 'PAN-X.te',\n",
       " 'PAN-X.th',\n",
       " 'PAN-X.tl',\n",
       " 'PAN-X.tr',\n",
       " 'PAN-X.ur',\n",
       " 'PAN-X.vi',\n",
       " 'PAN-X.yo',\n",
       " 'PAN-X.zh',\n",
       " 'MLQA.ar.ar',\n",
       " 'MLQA.ar.de',\n",
       " 'MLQA.ar.vi',\n",
       " 'MLQA.ar.zh',\n",
       " 'MLQA.ar.en',\n",
       " 'MLQA.ar.es',\n",
       " 'MLQA.ar.hi',\n",
       " 'MLQA.de.ar',\n",
       " 'MLQA.de.de',\n",
       " 'MLQA.de.vi',\n",
       " 'MLQA.de.zh',\n",
       " 'MLQA.de.en',\n",
       " 'MLQA.de.es',\n",
       " 'MLQA.de.hi',\n",
       " 'MLQA.vi.ar',\n",
       " 'MLQA.vi.de',\n",
       " 'MLQA.vi.vi',\n",
       " 'MLQA.vi.zh',\n",
       " 'MLQA.vi.en',\n",
       " 'MLQA.vi.es',\n",
       " 'MLQA.vi.hi',\n",
       " 'MLQA.zh.ar',\n",
       " 'MLQA.zh.de',\n",
       " 'MLQA.zh.vi',\n",
       " 'MLQA.zh.zh',\n",
       " 'MLQA.zh.en',\n",
       " 'MLQA.zh.es',\n",
       " 'MLQA.zh.hi',\n",
       " 'MLQA.en.ar',\n",
       " 'MLQA.en.de',\n",
       " 'MLQA.en.vi',\n",
       " 'MLQA.en.zh',\n",
       " 'MLQA.en.en',\n",
       " 'MLQA.en.es',\n",
       " 'MLQA.en.hi',\n",
       " 'MLQA.es.ar',\n",
       " 'MLQA.es.de',\n",
       " 'MLQA.es.vi',\n",
       " 'MLQA.es.zh',\n",
       " 'MLQA.es.en',\n",
       " 'MLQA.es.es',\n",
       " 'MLQA.es.hi',\n",
       " 'MLQA.hi.ar',\n",
       " 'MLQA.hi.de',\n",
       " 'MLQA.hi.vi',\n",
       " 'MLQA.hi.zh',\n",
       " 'MLQA.hi.en',\n",
       " 'MLQA.hi.es',\n",
       " 'MLQA.hi.hi',\n",
       " 'XQuAD.ar',\n",
       " 'XQuAD.de',\n",
       " 'XQuAD.vi',\n",
       " 'XQuAD.zh',\n",
       " 'XQuAD.en',\n",
       " 'XQuAD.es',\n",
       " 'XQuAD.hi',\n",
       " 'XQuAD.el',\n",
       " 'XQuAD.ru',\n",
       " 'XQuAD.th',\n",
       " 'XQuAD.tr',\n",
       " 'bucc18.de',\n",
       " 'bucc18.fr',\n",
       " 'bucc18.zh',\n",
       " 'bucc18.ru',\n",
       " 'PAWS-X.de',\n",
       " 'PAWS-X.en',\n",
       " 'PAWS-X.es',\n",
       " 'PAWS-X.fr',\n",
       " 'PAWS-X.ja',\n",
       " 'PAWS-X.ko',\n",
       " 'PAWS-X.zh',\n",
       " 'tatoeba.afr',\n",
       " 'tatoeba.ara',\n",
       " 'tatoeba.ben',\n",
       " 'tatoeba.bul',\n",
       " 'tatoeba.deu',\n",
       " 'tatoeba.cmn',\n",
       " 'tatoeba.ell',\n",
       " 'tatoeba.est',\n",
       " 'tatoeba.eus',\n",
       " 'tatoeba.fin',\n",
       " 'tatoeba.fra',\n",
       " 'tatoeba.heb',\n",
       " 'tatoeba.hin',\n",
       " 'tatoeba.hun',\n",
       " 'tatoeba.ind',\n",
       " 'tatoeba.ita',\n",
       " 'tatoeba.jav',\n",
       " 'tatoeba.jpn',\n",
       " 'tatoeba.kat',\n",
       " 'tatoeba.kaz',\n",
       " 'tatoeba.kor',\n",
       " 'tatoeba.mal',\n",
       " 'tatoeba.mar',\n",
       " 'tatoeba.nld',\n",
       " 'tatoeba.pes',\n",
       " 'tatoeba.por',\n",
       " 'tatoeba.rus',\n",
       " 'tatoeba.spa',\n",
       " 'tatoeba.swh',\n",
       " 'tatoeba.tam',\n",
       " 'tatoeba.tel',\n",
       " 'tatoeba.tgl',\n",
       " 'tatoeba.tha',\n",
       " 'tatoeba.tur',\n",
       " 'tatoeba.urd',\n",
       " 'tatoeba.vie',\n",
       " 'udpos.Afrikaans',\n",
       " 'udpos.Arabic',\n",
       " 'udpos.Basque',\n",
       " 'udpos.Bulgarian',\n",
       " 'udpos.Dutch',\n",
       " 'udpos.English',\n",
       " 'udpos.Estonian',\n",
       " 'udpos.Finnish',\n",
       " 'udpos.French',\n",
       " 'udpos.German',\n",
       " 'udpos.Greek',\n",
       " 'udpos.Hebrew',\n",
       " 'udpos.Hindi',\n",
       " 'udpos.Hungarian',\n",
       " 'udpos.Indonesian',\n",
       " 'udpos.Italian',\n",
       " 'udpos.Japanese',\n",
       " 'udpos.Kazakh',\n",
       " 'udpos.Korean',\n",
       " 'udpos.Chinese',\n",
       " 'udpos.Marathi',\n",
       " 'udpos.Persian',\n",
       " 'udpos.Portuguese',\n",
       " 'udpos.Russian',\n",
       " 'udpos.Spanish',\n",
       " 'udpos.Tagalog',\n",
       " 'udpos.Tamil',\n",
       " 'udpos.Telugu',\n",
       " 'udpos.Thai',\n",
       " 'udpos.Turkish',\n",
       " 'udpos.Urdu',\n",
       " 'udpos.Vietnamese',\n",
       " 'udpos.Yoruba']"
      ]
     },
     "execution_count": 4,
     "metadata": {},
     "output_type": "execute_result"
    }
   ],
   "source": [
    "ner_data_subset = get_dataset_config_names(\"xtreme\")\n",
    "ner_data_subset"
   ]
  },
  {
   "cell_type": "code",
   "execution_count": 5,
   "metadata": {},
   "outputs": [
    {
     "data": {
      "text/plain": [
       "183"
      ]
     },
     "execution_count": 5,
     "metadata": {},
     "output_type": "execute_result"
    }
   ],
   "source": [
    "len(ner_data_subset)"
   ]
  },
  {
   "cell_type": "code",
   "execution_count": 6,
   "metadata": {},
   "outputs": [],
   "source": [
    "panx_subsets = [s for s in ner_data_subset if s.startswith(\"PAN\")]"
   ]
  },
  {
   "cell_type": "code",
   "execution_count": 7,
   "metadata": {},
   "outputs": [
    {
     "data": {
      "text/plain": [
       "['PAN-X.af',\n",
       " 'PAN-X.ar',\n",
       " 'PAN-X.bg',\n",
       " 'PAN-X.bn',\n",
       " 'PAN-X.de',\n",
       " 'PAN-X.el',\n",
       " 'PAN-X.en',\n",
       " 'PAN-X.es',\n",
       " 'PAN-X.et',\n",
       " 'PAN-X.eu',\n",
       " 'PAN-X.fa',\n",
       " 'PAN-X.fi',\n",
       " 'PAN-X.fr',\n",
       " 'PAN-X.he',\n",
       " 'PAN-X.hi',\n",
       " 'PAN-X.hu',\n",
       " 'PAN-X.id',\n",
       " 'PAN-X.it',\n",
       " 'PAN-X.ja',\n",
       " 'PAN-X.jv',\n",
       " 'PAN-X.ka',\n",
       " 'PAN-X.kk',\n",
       " 'PAN-X.ko',\n",
       " 'PAN-X.ml',\n",
       " 'PAN-X.mr',\n",
       " 'PAN-X.ms',\n",
       " 'PAN-X.my',\n",
       " 'PAN-X.nl',\n",
       " 'PAN-X.pt',\n",
       " 'PAN-X.ru',\n",
       " 'PAN-X.sw',\n",
       " 'PAN-X.ta',\n",
       " 'PAN-X.te',\n",
       " 'PAN-X.th',\n",
       " 'PAN-X.tl',\n",
       " 'PAN-X.tr',\n",
       " 'PAN-X.ur',\n",
       " 'PAN-X.vi',\n",
       " 'PAN-X.yo',\n",
       " 'PAN-X.zh']"
      ]
     },
     "execution_count": 7,
     "metadata": {},
     "output_type": "execute_result"
    }
   ],
   "source": [
    "panx_subsets"
   ]
  },
  {
   "cell_type": "code",
   "execution_count": 9,
   "metadata": {},
   "outputs": [
    {
     "name": "stderr",
     "output_type": "stream",
     "text": [
      "Using the latest cached version of the module from C:\\Users\\vijay\\.cache\\huggingface\\modules\\datasets_modules\\datasets\\xtreme\\29f5d57a48779f37ccb75cb8708d1095448aad0713b425bdc1ff9a4a128a56e4 (last modified on Fri Jul 29 19:13:39 2022) since it couldn't be found locally at xtreme., or remotely on the Hugging Face Hub.\n"
     ]
    },
    {
     "name": "stdout",
     "output_type": "stream",
     "text": [
      "Downloading and preparing dataset xtreme/PAN-X.en (download: 223.17 MiB, generated: 7.30 MiB, post-processed: Unknown size, total: 230.47 MiB) to C:\\Users\\vijay\\.cache\\huggingface\\datasets\\xtreme\\PAN-X.en\\1.0.0\\29f5d57a48779f37ccb75cb8708d1095448aad0713b425bdc1ff9a4a128a56e4...\n"
     ]
    },
    {
     "name": "stderr",
     "output_type": "stream",
     "text": [
      "Downloading data: 100%|██████████| 234M/234M [01:12<00:00, 3.23MB/s]   \n",
      "                                                                                          \r"
     ]
    },
    {
     "name": "stdout",
     "output_type": "stream",
     "text": [
      "Dataset xtreme downloaded and prepared to C:\\Users\\vijay\\.cache\\huggingface\\datasets\\xtreme\\PAN-X.en\\1.0.0\\29f5d57a48779f37ccb75cb8708d1095448aad0713b425bdc1ff9a4a128a56e4. Subsequent calls will reuse this data.\n"
     ]
    },
    {
     "name": "stderr",
     "output_type": "stream",
     "text": [
      "100%|██████████| 3/3 [00:00<00:00, 32.12it/s]\n"
     ]
    }
   ],
   "source": [
    "en = load_dataset(\"xtreme\", name=\"PAN-X.en\")\n"
   ]
  },
  {
   "cell_type": "code",
   "execution_count": 10,
   "metadata": {},
   "outputs": [
    {
     "data": {
      "text/plain": [
       "DatasetDict({\n",
       "    train: Dataset({\n",
       "        features: ['tokens', 'ner_tags', 'langs'],\n",
       "        num_rows: 20000\n",
       "    })\n",
       "    validation: Dataset({\n",
       "        features: ['tokens', 'ner_tags', 'langs'],\n",
       "        num_rows: 10000\n",
       "    })\n",
       "    test: Dataset({\n",
       "        features: ['tokens', 'ner_tags', 'langs'],\n",
       "        num_rows: 10000\n",
       "    })\n",
       "})"
      ]
     },
     "execution_count": 10,
     "metadata": {},
     "output_type": "execute_result"
    }
   ],
   "source": [
    "en"
   ]
  },
  {
   "cell_type": "code",
   "execution_count": 12,
   "metadata": {},
   "outputs": [
    {
     "data": {
      "text/html": [
       "<div>\n",
       "<style scoped>\n",
       "    .dataframe tbody tr th:only-of-type {\n",
       "        vertical-align: middle;\n",
       "    }\n",
       "\n",
       "    .dataframe tbody tr th {\n",
       "        vertical-align: top;\n",
       "    }\n",
       "\n",
       "    .dataframe thead th {\n",
       "        text-align: right;\n",
       "    }\n",
       "</style>\n",
       "<table border=\"1\" class=\"dataframe\">\n",
       "  <thead>\n",
       "    <tr style=\"text-align: right;\">\n",
       "      <th></th>\n",
       "      <th>0</th>\n",
       "      <th>1</th>\n",
       "      <th>2</th>\n",
       "      <th>3</th>\n",
       "      <th>4</th>\n",
       "      <th>5</th>\n",
       "      <th>6</th>\n",
       "      <th>7</th>\n",
       "      <th>8</th>\n",
       "      <th>9</th>\n",
       "      <th>10</th>\n",
       "    </tr>\n",
       "  </thead>\n",
       "  <tbody>\n",
       "    <tr>\n",
       "      <th>tokens</th>\n",
       "      <td>R.H.</td>\n",
       "      <td>Saunders</td>\n",
       "      <td>(</td>\n",
       "      <td>St.</td>\n",
       "      <td>Lawrence</td>\n",
       "      <td>River</td>\n",
       "      <td>)</td>\n",
       "      <td>(</td>\n",
       "      <td>968</td>\n",
       "      <td>MW</td>\n",
       "      <td>)</td>\n",
       "    </tr>\n",
       "    <tr>\n",
       "      <th>ner_tags</th>\n",
       "      <td>3</td>\n",
       "      <td>4</td>\n",
       "      <td>0</td>\n",
       "      <td>3</td>\n",
       "      <td>4</td>\n",
       "      <td>4</td>\n",
       "      <td>0</td>\n",
       "      <td>0</td>\n",
       "      <td>0</td>\n",
       "      <td>0</td>\n",
       "      <td>0</td>\n",
       "    </tr>\n",
       "    <tr>\n",
       "      <th>langs</th>\n",
       "      <td>en</td>\n",
       "      <td>en</td>\n",
       "      <td>en</td>\n",
       "      <td>en</td>\n",
       "      <td>en</td>\n",
       "      <td>en</td>\n",
       "      <td>en</td>\n",
       "      <td>en</td>\n",
       "      <td>en</td>\n",
       "      <td>en</td>\n",
       "      <td>en</td>\n",
       "    </tr>\n",
       "  </tbody>\n",
       "</table>\n",
       "</div>"
      ],
      "text/plain": [
       "            0         1   2    3         4      5   6   7    8   9   10\n",
       "tokens    R.H.  Saunders   (  St.  Lawrence  River   )   (  968  MW   )\n",
       "ner_tags     3         4   0    3         4      4   0   0    0   0   0\n",
       "langs       en        en  en   en        en     en  en  en   en  en  en"
      ]
     },
     "execution_count": 12,
     "metadata": {},
     "output_type": "execute_result"
    }
   ],
   "source": [
    "pd.DataFrame(en[\"train\"][0]).T"
   ]
  },
  {
   "cell_type": "code",
   "execution_count": 20,
   "metadata": {},
   "outputs": [
    {
     "data": {
      "text/plain": [
       "['O', 'B-PER', 'I-PER', 'B-ORG', 'I-ORG', 'B-LOC', 'I-LOC']"
      ]
     },
     "execution_count": 20,
     "metadata": {},
     "output_type": "execute_result"
    }
   ],
   "source": [
    "en[\"train\"].features[\"ner_tags\"].feature.names"
   ]
  },
  {
   "cell_type": "code",
   "execution_count": 22,
   "metadata": {},
   "outputs": [
    {
     "data": {
      "text/html": [
       "<div>\n",
       "<style scoped>\n",
       "    .dataframe tbody tr th:only-of-type {\n",
       "        vertical-align: middle;\n",
       "    }\n",
       "\n",
       "    .dataframe tbody tr th {\n",
       "        vertical-align: top;\n",
       "    }\n",
       "\n",
       "    .dataframe thead th {\n",
       "        text-align: right;\n",
       "    }\n",
       "</style>\n",
       "<table border=\"1\" class=\"dataframe\">\n",
       "  <thead>\n",
       "    <tr style=\"text-align: right;\">\n",
       "      <th></th>\n",
       "      <th>tokens</th>\n",
       "      <th>ner_tags</th>\n",
       "      <th>langs</th>\n",
       "    </tr>\n",
       "  </thead>\n",
       "  <tbody>\n",
       "    <tr>\n",
       "      <th>0</th>\n",
       "      <td>[R.H., Saunders, (, St., Lawrence, River, ), (...</td>\n",
       "      <td>[3, 4, 0, 3, 4, 4, 0, 0, 0, 0, 0]</td>\n",
       "      <td>[en, en, en, en, en, en, en, en, en, en, en]</td>\n",
       "    </tr>\n",
       "    <tr>\n",
       "      <th>1</th>\n",
       "      <td>[;, ', '', Anders, Lindström, '', ']</td>\n",
       "      <td>[0, 0, 0, 1, 2, 0, 0]</td>\n",
       "      <td>[en, en, en, en, en, en, en]</td>\n",
       "    </tr>\n",
       "    <tr>\n",
       "      <th>2</th>\n",
       "      <td>[Karl, Ove, Knausgård, (, born, 1968, )]</td>\n",
       "      <td>[1, 2, 2, 0, 0, 0, 0]</td>\n",
       "      <td>[en, en, en, en, en, en, en]</td>\n",
       "    </tr>\n",
       "    <tr>\n",
       "      <th>3</th>\n",
       "      <td>[Atlantic, City, ,, New, Jersey]</td>\n",
       "      <td>[5, 6, 6, 6, 6]</td>\n",
       "      <td>[en, en, en, en, en]</td>\n",
       "    </tr>\n",
       "    <tr>\n",
       "      <th>4</th>\n",
       "      <td>[Her, daughter, from, the, second, marriage, w...</td>\n",
       "      <td>[0, 0, 0, 0, 0, 0, 0, 1, 2, 0, 0, 0, 0, 0, 0, ...</td>\n",
       "      <td>[en, en, en, en, en, en, en, en, en, en, en, e...</td>\n",
       "    </tr>\n",
       "    <tr>\n",
       "      <th>...</th>\n",
       "      <td>...</td>\n",
       "      <td>...</td>\n",
       "      <td>...</td>\n",
       "    </tr>\n",
       "    <tr>\n",
       "      <th>19995</th>\n",
       "      <td>[Cicely, Courtneidge, ,, Ernest, Truex]</td>\n",
       "      <td>[1, 2, 0, 1, 2]</td>\n",
       "      <td>[en, en, en, en, en]</td>\n",
       "    </tr>\n",
       "    <tr>\n",
       "      <th>19996</th>\n",
       "      <td>[Aracaju, ,, Sergipe, ,, Brazil]</td>\n",
       "      <td>[5, 0, 5, 0, 5]</td>\n",
       "      <td>[en, en, en, en, en]</td>\n",
       "    </tr>\n",
       "    <tr>\n",
       "      <th>19997</th>\n",
       "      <td>[Louisville, in, the, American, Civil, War]</td>\n",
       "      <td>[5, 6, 6, 6, 6, 6]</td>\n",
       "      <td>[en, en, en, en, en, en]</td>\n",
       "    </tr>\n",
       "    <tr>\n",
       "      <th>19998</th>\n",
       "      <td>[16, (, David, Nugent, )]</td>\n",
       "      <td>[0, 0, 1, 2, 0]</td>\n",
       "      <td>[en, en, en, en, en]</td>\n",
       "    </tr>\n",
       "    <tr>\n",
       "      <th>19999</th>\n",
       "      <td>[List, of, regional, mammals, lists]</td>\n",
       "      <td>[3, 4, 4, 4, 4]</td>\n",
       "      <td>[en, en, en, en, en]</td>\n",
       "    </tr>\n",
       "  </tbody>\n",
       "</table>\n",
       "<p>20000 rows × 3 columns</p>\n",
       "</div>"
      ],
      "text/plain": [
       "                                                  tokens  \\\n",
       "0      [R.H., Saunders, (, St., Lawrence, River, ), (...   \n",
       "1                   [;, ', '', Anders, Lindström, '', ']   \n",
       "2               [Karl, Ove, Knausgård, (, born, 1968, )]   \n",
       "3                       [Atlantic, City, ,, New, Jersey]   \n",
       "4      [Her, daughter, from, the, second, marriage, w...   \n",
       "...                                                  ...   \n",
       "19995            [Cicely, Courtneidge, ,, Ernest, Truex]   \n",
       "19996                   [Aracaju, ,, Sergipe, ,, Brazil]   \n",
       "19997        [Louisville, in, the, American, Civil, War]   \n",
       "19998                          [16, (, David, Nugent, )]   \n",
       "19999               [List, of, regional, mammals, lists]   \n",
       "\n",
       "                                                ner_tags  \\\n",
       "0                      [3, 4, 0, 3, 4, 4, 0, 0, 0, 0, 0]   \n",
       "1                                  [0, 0, 0, 1, 2, 0, 0]   \n",
       "2                                  [1, 2, 2, 0, 0, 0, 0]   \n",
       "3                                        [5, 6, 6, 6, 6]   \n",
       "4      [0, 0, 0, 0, 0, 0, 0, 1, 2, 0, 0, 0, 0, 0, 0, ...   \n",
       "...                                                  ...   \n",
       "19995                                    [1, 2, 0, 1, 2]   \n",
       "19996                                    [5, 0, 5, 0, 5]   \n",
       "19997                                 [5, 6, 6, 6, 6, 6]   \n",
       "19998                                    [0, 0, 1, 2, 0]   \n",
       "19999                                    [3, 4, 4, 4, 4]   \n",
       "\n",
       "                                                   langs  \n",
       "0           [en, en, en, en, en, en, en, en, en, en, en]  \n",
       "1                           [en, en, en, en, en, en, en]  \n",
       "2                           [en, en, en, en, en, en, en]  \n",
       "3                                   [en, en, en, en, en]  \n",
       "4      [en, en, en, en, en, en, en, en, en, en, en, e...  \n",
       "...                                                  ...  \n",
       "19995                               [en, en, en, en, en]  \n",
       "19996                               [en, en, en, en, en]  \n",
       "19997                           [en, en, en, en, en, en]  \n",
       "19998                               [en, en, en, en, en]  \n",
       "19999                               [en, en, en, en, en]  \n",
       "\n",
       "[20000 rows x 3 columns]"
      ]
     },
     "execution_count": 22,
     "metadata": {},
     "output_type": "execute_result"
    }
   ],
   "source": [
    "pd.DataFrame(en[\"train\"])"
   ]
  },
  {
   "cell_type": "code",
   "execution_count": null,
   "metadata": {},
   "outputs": [],
   "source": []
  }
 ],
 "metadata": {
  "kernelspec": {
   "display_name": "Python 3.10.5 64-bit (windows store)",
   "language": "python",
   "name": "python3"
  },
  "language_info": {
   "codemirror_mode": {
    "name": "ipython",
    "version": 3
   },
   "file_extension": ".py",
   "mimetype": "text/x-python",
   "name": "python",
   "nbconvert_exporter": "python",
   "pygments_lexer": "ipython3",
   "version": "3.10.5"
  },
  "orig_nbformat": 4,
  "vscode": {
   "interpreter": {
    "hash": "6b3b0a0db4cd4a3c1c3d76df4f00854f7a4451b32fe2b921cf836a9489bdaa44"
   }
  }
 },
 "nbformat": 4,
 "nbformat_minor": 2
}
